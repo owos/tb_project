{
 "cells": [
  {
   "cell_type": "markdown",
   "id": "f21e8197",
   "metadata": {
    "papermill": {
     "duration": 0.030586,
     "end_time": "2022-08-09T13:07:31.726472",
     "exception": false,
     "start_time": "2022-08-09T13:07:31.695886",
     "status": "completed"
    },
    "tags": []
   },
   "source": [
    "# Importing Package and Utitlis"
   ]
  },
  {
   "cell_type": "code",
   "execution_count": 1,
   "id": "084fbfe7",
   "metadata": {
    "execution": {
     "iopub.execute_input": "2022-08-09T13:07:31.793804Z",
     "iopub.status.busy": "2022-08-09T13:07:31.792833Z",
     "iopub.status.idle": "2022-08-09T13:07:37.431897Z",
     "shell.execute_reply": "2022-08-09T13:07:37.430942Z",
     "shell.execute_reply.started": "2022-08-09T12:47:07.328055Z"
    },
    "papermill": {
     "duration": 5.679225,
     "end_time": "2022-08-09T13:07:37.432079",
     "exception": false,
     "start_time": "2022-08-09T13:07:31.752854",
     "status": "completed"
    },
    "tags": []
   },
   "outputs": [],
   "source": [
    "import os\n",
    "import random\n",
    "import numpy as np\n",
    "import pandas as pd\n",
    "import matplotlib.pyplot as plt\n",
    "import keras\n",
    "import tensorflow as tf\n",
    "from tensorflow.keras.layers import Dense, Conv2D, GlobalAveragePooling2D, Input, Flatten, MaxPooling2D\n",
    "from tensorflow.keras import Model, Sequential, applications\n",
    "from PIL import Image\n",
    "from matplotlib import image\n",
    "import cv2 as cv\n",
    "np.random.seed(2022)"
   ]
  },
  {
   "cell_type": "markdown",
   "id": "03f378c4",
   "metadata": {
    "papermill": {
     "duration": 0.026774,
     "end_time": "2022-08-09T13:07:37.484451",
     "exception": false,
     "start_time": "2022-08-09T13:07:37.457677",
     "status": "completed"
    },
    "tags": []
   },
   "source": [
    "# Loading the images"
   ]
  },
  {
   "cell_type": "code",
   "execution_count": 2,
   "id": "dc7eb6af",
   "metadata": {
    "execution": {
     "iopub.execute_input": "2022-08-09T13:07:37.540291Z",
     "iopub.status.busy": "2022-08-09T13:07:37.539685Z",
     "iopub.status.idle": "2022-08-09T13:07:45.036801Z",
     "shell.execute_reply": "2022-08-09T13:07:45.037207Z",
     "shell.execute_reply.started": "2022-08-09T12:47:41.763129Z"
    },
    "papermill": {
     "duration": 7.528059,
     "end_time": "2022-08-09T13:07:45.037365",
     "exception": false,
     "start_time": "2022-08-09T13:07:37.509306",
     "status": "completed"
    },
    "tags": []
   },
   "outputs": [
    {
     "name": "stdout",
     "output_type": "stream",
     "text": [
      "Found 4200 files belonging to 2 classes.\n"
     ]
    },
    {
     "name": "stderr",
     "output_type": "stream",
     "text": [
      "2022-08-09 13:07:41.632094: I tensorflow/stream_executor/cuda/cuda_gpu_executor.cc:937] successful NUMA node read from SysFS had negative value (-1), but there must be at least one NUMA node, so returning NUMA node zero\n",
      "2022-08-09 13:07:41.731395: I tensorflow/stream_executor/cuda/cuda_gpu_executor.cc:937] successful NUMA node read from SysFS had negative value (-1), but there must be at least one NUMA node, so returning NUMA node zero\n",
      "2022-08-09 13:07:41.732219: I tensorflow/stream_executor/cuda/cuda_gpu_executor.cc:937] successful NUMA node read from SysFS had negative value (-1), but there must be at least one NUMA node, so returning NUMA node zero\n",
      "2022-08-09 13:07:41.737639: I tensorflow/core/platform/cpu_feature_guard.cc:142] This TensorFlow binary is optimized with oneAPI Deep Neural Network Library (oneDNN) to use the following CPU instructions in performance-critical operations:  AVX2 AVX512F FMA\n",
      "To enable them in other operations, rebuild TensorFlow with the appropriate compiler flags.\n",
      "2022-08-09 13:07:41.738755: I tensorflow/stream_executor/cuda/cuda_gpu_executor.cc:937] successful NUMA node read from SysFS had negative value (-1), but there must be at least one NUMA node, so returning NUMA node zero\n",
      "2022-08-09 13:07:41.740457: I tensorflow/stream_executor/cuda/cuda_gpu_executor.cc:937] successful NUMA node read from SysFS had negative value (-1), but there must be at least one NUMA node, so returning NUMA node zero\n",
      "2022-08-09 13:07:41.741352: I tensorflow/stream_executor/cuda/cuda_gpu_executor.cc:937] successful NUMA node read from SysFS had negative value (-1), but there must be at least one NUMA node, so returning NUMA node zero\n",
      "2022-08-09 13:07:43.710883: I tensorflow/stream_executor/cuda/cuda_gpu_executor.cc:937] successful NUMA node read from SysFS had negative value (-1), but there must be at least one NUMA node, so returning NUMA node zero\n",
      "2022-08-09 13:07:43.711808: I tensorflow/stream_executor/cuda/cuda_gpu_executor.cc:937] successful NUMA node read from SysFS had negative value (-1), but there must be at least one NUMA node, so returning NUMA node zero\n",
      "2022-08-09 13:07:43.712598: I tensorflow/stream_executor/cuda/cuda_gpu_executor.cc:937] successful NUMA node read from SysFS had negative value (-1), but there must be at least one NUMA node, so returning NUMA node zero\n",
      "2022-08-09 13:07:43.713294: I tensorflow/core/common_runtime/gpu/gpu_device.cc:1510] Created device /job:localhost/replica:0/task:0/device:GPU:0 with 15403 MB memory:  -> device: 0, name: Tesla P100-PCIE-16GB, pci bus id: 0000:00:04.0, compute capability: 6.0\n"
     ]
    },
    {
     "name": "stdout",
     "output_type": "stream",
     "text": [
      "Found 4200 files belonging to 2 classes.\n",
      "Using 3360 files for training.\n",
      "Found 4200 files belonging to 2 classes.\n",
      "Using 840 files for validation.\n"
     ]
    }
   ],
   "source": [
    "# loading image\n",
    "IMG_SHAPE = 300\n",
    "batch_size = 32\n",
    "data_dir = '../input/tuberculosis-tb-chest-xray-dataset/TB_Chest_Radiography_Database'\n",
    "all_ds = tf.keras.preprocessing.image_dataset_from_directory(\n",
    "                            data_dir,\n",
    "                            image_size=(IMG_SHAPE, IMG_SHAPE),\n",
    "                            seed= 2022,\n",
    "                            batch_size=4200,\n",
    "                            )\n",
    "# loading the training image\n",
    "train_ds = tf.keras.preprocessing.image_dataset_from_directory(\n",
    "                            data_dir,\n",
    "                            image_size = (IMG_SHAPE, IMG_SHAPE),\n",
    "                            batch_size=batch_size,\n",
    "                            subset= 'training',\n",
    "                            shuffle=True,\n",
    "                            seed=2022,\n",
    "                            validation_split = 0.2\n",
    "                            )\n",
    "# loading the testing image\n",
    "test_ds = tf.keras.preprocessing.image_dataset_from_directory(\n",
    "                            data_dir,\n",
    "                            seed=2022,\n",
    "                            image_size=(IMG_SHAPE, IMG_SHAPE),\n",
    "                            subset='validation',\n",
    "                            shuffle=True,\n",
    "                            validation_split = 0.2,\n",
    "                            batch_size=batch_size)"
   ]
  },
  {
   "cell_type": "code",
   "execution_count": 3,
   "id": "eef86497",
   "metadata": {
    "execution": {
     "iopub.execute_input": "2022-08-09T13:07:45.098206Z",
     "iopub.status.busy": "2022-08-09T13:07:45.097491Z",
     "iopub.status.idle": "2022-08-09T13:07:45.135108Z",
     "shell.execute_reply": "2022-08-09T13:07:45.135528Z",
     "shell.execute_reply.started": "2022-08-09T12:48:21.139863Z"
    },
    "papermill": {
     "duration": 0.070504,
     "end_time": "2022-08-09T13:07:45.135689",
     "exception": false,
     "start_time": "2022-08-09T13:07:45.065185",
     "status": "completed"
    },
    "tags": []
   },
   "outputs": [
    {
     "data": {
      "text/plain": [
       "(1, 300, 300, 3)"
      ]
     },
     "execution_count": 3,
     "metadata": {},
     "output_type": "execute_result"
    }
   ],
   "source": [
    "#accessing the shape of the images \n",
    "inf_img = cv.imread('../input/tb-testing-data/18373.jpg')\n",
    "inf_img = cv.resize(inf_img, (IMG_SHAPE, IMG_SHAPE))\n",
    "inf_img = inf_img /255.\n",
    "inf_img = np.expand_dims(inf_img, 0)\n",
    "inf_img.shape"
   ]
  },
  {
   "cell_type": "markdown",
   "id": "a9168325",
   "metadata": {
    "execution": {
     "iopub.execute_input": "2022-04-25T02:05:52.756212Z",
     "iopub.status.busy": "2022-04-25T02:05:52.755955Z",
     "iopub.status.idle": "2022-04-25T02:05:53.5128Z",
     "shell.execute_reply": "2022-04-25T02:05:53.512061Z",
     "shell.execute_reply.started": "2022-04-25T02:05:52.756183Z"
    },
    "papermill": {
     "duration": 0.027421,
     "end_time": "2022-08-09T13:07:45.193069",
     "exception": false,
     "start_time": "2022-08-09T13:07:45.165648",
     "status": "completed"
    },
    "tags": []
   },
   "source": [
    "train_datagen = tf.keras.preprocessing.image.ImageDataGenerator(rescale = 1./255, zoom_range= .3, rotation_range =50, height_shift_range=.2, width_shift_range=.2, shear_range=.2,\n",
    "                                                               horizontal_flip=True, vertical_flip=True, validation_split=.2)\n",
    "train_ds = train_datagen.flow_from_directory(data_dir,\n",
    "                                            target_size=(IMG_SHAPE,IMG_SHAPE),\n",
    "                                            batch_size=batch_size,\n",
    "                                            class_mode='binary',\n",
    "                                            subset='training'\n",
    "                                            )\n",
    "test_datagen = tf.keras.preprocessing.image.ImageDataGenerator(rescale=1./225, validation_split=.2)\n",
    "test_ds = test_datagen.flow_from_directory(data_dir,\n",
    "                      batch_size=batch_size,\n",
    "                      target_size=(IMG_SHAPE, IMG_SHAPE),\n",
    "                      class_mode='binary',\n",
    "                      subset='validation'\n",
    "                      )\n"
   ]
  },
  {
   "cell_type": "markdown",
   "id": "a8cf9a2a",
   "metadata": {
    "papermill": {
     "duration": 0.028152,
     "end_time": "2022-08-09T13:07:45.248780",
     "exception": false,
     "start_time": "2022-08-09T13:07:45.220628",
     "status": "completed"
    },
    "tags": []
   },
   "source": [
    "# Converting labels to their average weighted value to cover for Data Imbalance "
   ]
  },
  {
   "cell_type": "code",
   "execution_count": 4,
   "id": "116ead59",
   "metadata": {
    "execution": {
     "iopub.execute_input": "2022-08-09T13:07:45.309825Z",
     "iopub.status.busy": "2022-08-09T13:07:45.309215Z",
     "iopub.status.idle": "2022-08-09T13:08:25.781041Z",
     "shell.execute_reply": "2022-08-09T13:08:25.781517Z",
     "shell.execute_reply.started": "2022-08-09T12:48:35.017566Z"
    },
    "papermill": {
     "duration": 40.504995,
     "end_time": "2022-08-09T13:08:25.781705",
     "exception": false,
     "start_time": "2022-08-09T13:07:45.276710",
     "status": "completed"
    },
    "tags": []
   },
   "outputs": [
    {
     "name": "stderr",
     "output_type": "stream",
     "text": [
      "2022-08-09 13:07:45.335733: I tensorflow/compiler/mlir/mlir_graph_optimization_pass.cc:185] None of the MLIR Optimization Passes are enabled (registered 2)\n",
      "2022-08-09 13:07:55.342441: I tensorflow/core/kernels/data/shuffle_dataset_op.cc:175] Filling up shuffle buffer (this may take a while): 1139 of 33600\n",
      "2022-08-09 13:08:05.355338: I tensorflow/core/kernels/data/shuffle_dataset_op.cc:175] Filling up shuffle buffer (this may take a while): 2239 of 33600\n",
      "2022-08-09 13:08:15.344540: I tensorflow/core/kernels/data/shuffle_dataset_op.cc:175] Filling up shuffle buffer (this may take a while): 3402 of 33600\n",
      "2022-08-09 13:08:22.213592: I tensorflow/core/kernels/data/shuffle_dataset_op.cc:228] Shuffle buffer filled.\n",
      "2022-08-09 13:08:22.238946: W tensorflow/core/framework/cpu_allocator_impl.cc:80] Allocation of 4536000000 exceeds 10% of free system memory.\n"
     ]
    }
   ],
   "source": [
    "#getting the labels of all the datasets.\n",
    "lables = np.concatenate([i for x, i in all_ds], axis=0)"
   ]
  },
  {
   "cell_type": "code",
   "execution_count": 5,
   "id": "eefdbfe6",
   "metadata": {
    "execution": {
     "iopub.execute_input": "2022-08-09T13:08:25.844582Z",
     "iopub.status.busy": "2022-08-09T13:08:25.843801Z",
     "iopub.status.idle": "2022-08-09T13:08:25.848736Z",
     "shell.execute_reply": "2022-08-09T13:08:25.849156Z",
     "shell.execute_reply.started": "2022-08-09T12:49:15.417654Z"
    },
    "papermill": {
     "duration": 0.037953,
     "end_time": "2022-08-09T13:08:25.849297",
     "exception": false,
     "start_time": "2022-08-09T13:08:25.811344",
     "status": "completed"
    },
    "tags": []
   },
   "outputs": [
    {
     "data": {
      "text/plain": [
       "3500"
      ]
     },
     "execution_count": 5,
     "metadata": {},
     "output_type": "execute_result"
    }
   ],
   "source": [
    "len(lables[lables==0])"
   ]
  },
  {
   "cell_type": "code",
   "execution_count": 6,
   "id": "a2bb3e61",
   "metadata": {
    "execution": {
     "iopub.execute_input": "2022-08-09T13:08:25.911102Z",
     "iopub.status.busy": "2022-08-09T13:08:25.910008Z",
     "iopub.status.idle": "2022-08-09T13:08:25.912317Z",
     "shell.execute_reply": "2022-08-09T13:08:25.912743Z",
     "shell.execute_reply.started": "2022-08-09T12:55:32.143974Z"
    },
    "papermill": {
     "duration": 0.035038,
     "end_time": "2022-08-09T13:08:25.912866",
     "exception": false,
     "start_time": "2022-08-09T13:08:25.877828",
     "status": "completed"
    },
    "tags": []
   },
   "outputs": [],
   "source": [
    "#getting the +ve and negative bicount\n",
    "neg, pos = np.bincount(lables)\n",
    "total = neg + pos"
   ]
  },
  {
   "cell_type": "code",
   "execution_count": 7,
   "id": "c0e8a512",
   "metadata": {
    "execution": {
     "iopub.execute_input": "2022-08-09T13:08:25.976684Z",
     "iopub.status.busy": "2022-08-09T13:08:25.975900Z",
     "iopub.status.idle": "2022-08-09T13:08:25.977710Z",
     "shell.execute_reply": "2022-08-09T13:08:25.978128Z",
     "shell.execute_reply.started": "2022-08-09T12:55:32.346800Z"
    },
    "papermill": {
     "duration": 0.035359,
     "end_time": "2022-08-09T13:08:25.978252",
     "exception": false,
     "start_time": "2022-08-09T13:08:25.942893",
     "status": "completed"
    },
    "tags": []
   },
   "outputs": [],
   "source": [
    "weight_of_0 = (1/neg) * (total/2.0)\n",
    "weight_of_1 = (1/pos) * (total/2.0)\n",
    "class_weights = {0:weight_of_0, 1:weight_of_1}"
   ]
  },
  {
   "cell_type": "code",
   "execution_count": 8,
   "id": "74cbd605",
   "metadata": {
    "execution": {
     "iopub.execute_input": "2022-08-09T13:08:26.039460Z",
     "iopub.status.busy": "2022-08-09T13:08:26.038922Z",
     "iopub.status.idle": "2022-08-09T13:08:26.043495Z",
     "shell.execute_reply": "2022-08-09T13:08:26.043856Z",
     "shell.execute_reply.started": "2022-08-09T12:55:32.514783Z"
    },
    "papermill": {
     "duration": 0.037305,
     "end_time": "2022-08-09T13:08:26.044002",
     "exception": false,
     "start_time": "2022-08-09T13:08:26.006697",
     "status": "completed"
    },
    "tags": []
   },
   "outputs": [
    {
     "data": {
      "text/plain": [
       "0.6000000000000001"
      ]
     },
     "execution_count": 8,
     "metadata": {},
     "output_type": "execute_result"
    }
   ],
   "source": [
    "weight_of_0"
   ]
  },
  {
   "cell_type": "code",
   "execution_count": 9,
   "id": "959a2c3e",
   "metadata": {
    "execution": {
     "iopub.execute_input": "2022-08-09T13:08:26.107555Z",
     "iopub.status.busy": "2022-08-09T13:08:26.105548Z",
     "iopub.status.idle": "2022-08-09T13:08:26.108176Z",
     "shell.execute_reply": "2022-08-09T13:08:26.108585Z",
     "shell.execute_reply.started": "2022-08-09T12:55:47.862446Z"
    },
    "papermill": {
     "duration": 0.035695,
     "end_time": "2022-08-09T13:08:26.108703",
     "exception": false,
     "start_time": "2022-08-09T13:08:26.073008",
     "status": "completed"
    },
    "tags": []
   },
   "outputs": [],
   "source": [
    "#deleting this because it takes up too much ram space \n",
    "del lables"
   ]
  },
  {
   "cell_type": "code",
   "execution_count": 10,
   "id": "80876118",
   "metadata": {
    "execution": {
     "iopub.execute_input": "2022-08-09T13:08:26.170053Z",
     "iopub.status.busy": "2022-08-09T13:08:26.169523Z",
     "iopub.status.idle": "2022-08-09T13:08:26.173992Z",
     "shell.execute_reply": "2022-08-09T13:08:26.174450Z",
     "shell.execute_reply.started": "2022-08-09T12:55:48.109959Z"
    },
    "papermill": {
     "duration": 0.037157,
     "end_time": "2022-08-09T13:08:26.174620",
     "exception": false,
     "start_time": "2022-08-09T13:08:26.137463",
     "status": "completed"
    },
    "tags": []
   },
   "outputs": [
    {
     "data": {
      "text/plain": [
       "['Normal', 'Tuberculosis']"
      ]
     },
     "execution_count": 10,
     "metadata": {},
     "output_type": "execute_result"
    }
   ],
   "source": [
    "classes = train_ds.class_names\n",
    "classes"
   ]
  },
  {
   "cell_type": "code",
   "execution_count": 11,
   "id": "2bf8acc3",
   "metadata": {
    "execution": {
     "iopub.execute_input": "2022-08-09T13:08:26.240041Z",
     "iopub.status.busy": "2022-08-09T13:08:26.239502Z",
     "iopub.status.idle": "2022-08-09T13:08:28.803107Z",
     "shell.execute_reply": "2022-08-09T13:08:28.803578Z",
     "shell.execute_reply.started": "2022-08-09T12:55:51.608978Z"
    },
    "papermill": {
     "duration": 2.600202,
     "end_time": "2022-08-09T13:08:28.803732",
     "exception": false,
     "start_time": "2022-08-09T13:08:26.203530",
     "status": "completed"
    },
    "tags": []
   },
   "outputs": [
    {
     "data": {
      "image/png": "[encoded data removed]",
      "text/plain": [
       "<Figure size 576x720 with 9 Axes>"
      ]
     },
     "metadata": {
      "needs_background": "light"
     },
     "output_type": "display_data"
    }
   ],
   "source": [
    "#sampling the data with respect to their labels\n",
    "plt.figure(figsize=(8,10))\n",
    "for img, label in train_ds.take(1):\n",
    "    for i in range(9):\n",
    "        ax = plt.subplot(3,3, i+1)\n",
    "        plt.imshow(img[i].numpy().astype(\"uint8\"))\n",
    "        plt.title(classes[label[i]])\n",
    "        plt.axis('off')\n",
    "        "
   ]
  },
  {
   "cell_type": "code",
   "execution_count": 12,
   "id": "035a6619",
   "metadata": {
    "execution": {
     "iopub.execute_input": "2022-08-09T13:08:28.876733Z",
     "iopub.status.busy": "2022-08-09T13:08:28.876105Z",
     "iopub.status.idle": "2022-08-09T13:08:28.879220Z",
     "shell.execute_reply": "2022-08-09T13:08:28.878777Z",
     "shell.execute_reply.started": "2022-08-09T12:56:56.297285Z"
    },
    "papermill": {
     "duration": 0.041086,
     "end_time": "2022-08-09T13:08:28.879340",
     "exception": false,
     "start_time": "2022-08-09T13:08:28.838254",
     "status": "completed"
    },
    "tags": []
   },
   "outputs": [],
   "source": [
    "# preprocessing\n",
    "AUTOTUNE = tf.data.experimental.AUTOTUNE\n",
    "train_ds = train_ds.prefetch(buffer_size=AUTOTUNE)"
   ]
  },
  {
   "cell_type": "code",
   "execution_count": 13,
   "id": "f4660f06",
   "metadata": {
    "execution": {
     "iopub.execute_input": "2022-08-09T13:08:28.953836Z",
     "iopub.status.busy": "2022-08-09T13:08:28.953057Z",
     "iopub.status.idle": "2022-08-09T13:08:28.955948Z",
     "shell.execute_reply": "2022-08-09T13:08:28.956462Z",
     "shell.execute_reply.started": "2022-08-09T12:56:57.568009Z"
    },
    "papermill": {
     "duration": 0.043192,
     "end_time": "2022-08-09T13:08:28.956610",
     "exception": false,
     "start_time": "2022-08-09T13:08:28.913418",
     "status": "completed"
    },
    "tags": []
   },
   "outputs": [
    {
     "data": {
      "text/plain": [
       "['DenseNet121',\n",
       " 'DenseNet169',\n",
       " 'DenseNet201',\n",
       " 'EfficientNetB0',\n",
       " 'EfficientNetB1',\n",
       " 'EfficientNetB2',\n",
       " 'EfficientNetB3',\n",
       " 'EfficientNetB4',\n",
       " 'EfficientNetB5',\n",
       " 'EfficientNetB6',\n",
       " 'EfficientNetB7',\n",
       " 'InceptionResNetV2',\n",
       " 'InceptionV3',\n",
       " 'MobileNet',\n",
       " 'MobileNetV2',\n",
       " 'MobileNetV3Large',\n",
       " 'MobileNetV3Small',\n",
       " 'NASNetLarge',\n",
       " 'NASNetMobile',\n",
       " 'ResNet101',\n",
       " 'ResNet101V2',\n",
       " 'ResNet152',\n",
       " 'ResNet152V2',\n",
       " 'ResNet50',\n",
       " 'ResNet50V2',\n",
       " 'VGG16',\n",
       " 'VGG19',\n",
       " 'Xception',\n",
       " '__builtins__',\n",
       " '__cached__',\n",
       " '__doc__',\n",
       " '__file__',\n",
       " '__loader__',\n",
       " '__name__',\n",
       " '__package__',\n",
       " '__path__',\n",
       " '__spec__',\n",
       " '_sys',\n",
       " 'densenet',\n",
       " 'efficientnet',\n",
       " 'imagenet_utils',\n",
       " 'inception_resnet_v2',\n",
       " 'inception_v3',\n",
       " 'mobilenet',\n",
       " 'mobilenet_v2',\n",
       " 'mobilenet_v3',\n",
       " 'nasnet',\n",
       " 'resnet',\n",
       " 'resnet50',\n",
       " 'resnet_v2',\n",
       " 'vgg16',\n",
       " 'vgg19',\n",
       " 'xception']"
      ]
     },
     "execution_count": 13,
     "metadata": {},
     "output_type": "execute_result"
    }
   ],
   "source": [
    "dir(applications)"
   ]
  },
  {
   "cell_type": "code",
   "execution_count": 14,
   "id": "33239a64",
   "metadata": {
    "execution": {
     "iopub.execute_input": "2022-08-09T13:08:29.035176Z",
     "iopub.status.busy": "2022-08-09T13:08:29.034366Z",
     "iopub.status.idle": "2022-08-09T13:08:29.036265Z",
     "shell.execute_reply": "2022-08-09T13:08:29.036675Z",
     "shell.execute_reply.started": "2022-08-09T12:57:17.257380Z"
    },
    "papermill": {
     "duration": 0.045561,
     "end_time": "2022-08-09T13:08:29.036803",
     "exception": false,
     "start_time": "2022-08-09T13:08:28.991242",
     "status": "completed"
    },
    "tags": []
   },
   "outputs": [],
   "source": [
    "#creating the model\n",
    "def base_model(shape, finetune=False):\n",
    "    #defining input layer\n",
    "    input_layer = Input(shape=shape)\n",
    "    # defining scaling layer\n",
    "    preprocess_layer = tf.keras.layers.experimental.preprocessing.Rescaling(1./255)(input_layer)\n",
    "    #loading pretrained model\n",
    "    print(preprocess_layer.shape)\n",
    "    pretrained_model = applications.InceptionV3(input_shape= preprocess_layer.shape[1:], include_top =False, weights= 'imagenet')\n",
    "    \n",
    "    #freezing all the layers if finetune is false\n",
    "    if finetune == False:\n",
    "        pretrained_model.trainable = False\n",
    "    #unfreezing 10 percent\n",
    "    else:\n",
    "        pretrained_model.trainble = True\n",
    "        #getting the finetune number\n",
    "        finetune_at = len(pretrained_model.layers) - int(len(pretrained_model.layers) * .05)\n",
    "        \n",
    "        #freezing point\n",
    "        for layer in pretrained_model.layers[:finetune_at]:\n",
    "            layer.trainable = False\n",
    "        \n",
    "        # checking to see if they were truely frozen\n",
    "        for i, layer in enumerate(pretrained_model.layers):\n",
    "            print(i, layer.name, layer.trainable)\n",
    "        \n",
    "    base_input = pretrained_model(preprocess_layer)\n",
    "    p1 = GlobalAveragePooling2D()(base_input)\n",
    "    \n",
    "    #flatten\n",
    "    flat = Flatten()(p1)\n",
    "    \n",
    "    output = Dense(1, activation='sigmoid')(flat)\n",
    "    \n",
    "    model = Model(outputs=output, inputs=input_layer)\n",
    "    \n",
    "    return model\n",
    "    "
   ]
  },
  {
   "cell_type": "code",
   "execution_count": 15,
   "id": "1363d4e8",
   "metadata": {
    "execution": {
     "iopub.execute_input": "2022-08-09T13:08:29.110724Z",
     "iopub.status.busy": "2022-08-09T13:08:29.110008Z",
     "iopub.status.idle": "2022-08-09T13:08:36.274344Z",
     "shell.execute_reply": "2022-08-09T13:08:36.273608Z",
     "shell.execute_reply.started": "2022-08-09T12:57:31.037778Z"
    },
    "papermill": {
     "duration": 7.202361,
     "end_time": "2022-08-09T13:08:36.274478",
     "exception": false,
     "start_time": "2022-08-09T13:08:29.072117",
     "status": "completed"
    },
    "tags": []
   },
   "outputs": [
    {
     "name": "stdout",
     "output_type": "stream",
     "text": [
      "(None, 300, 300, 3)\n",
      "Downloading data from https://storage.googleapis.com/tensorflow/keras-applications/inception_v3/inception_v3_weights_tf_dim_ordering_tf_kernels_notop.h5\n",
      "87916544/87910968 [==============================] - 4s 0us/step\n",
      "87924736/87910968 [==============================] - 4s 0us/step\n",
      "0 input_2 False\n",
      "1 conv2d False\n",
      "2 batch_normalization False\n",
      "3 activation False\n",
      "4 conv2d_1 False\n",
      "5 batch_normalization_1 False\n",
      "6 activation_1 False\n",
      "7 conv2d_2 False\n",
      "8 batch_normalization_2 False\n",
      "9 activation_2 False\n",
      "10 max_pooling2d False\n",
      "11 conv2d_3 False\n",
      "12 batch_normalization_3 False\n",
      "13 activation_3 False\n",
      "14 conv2d_4 False\n",
      "15 batch_normalization_4 False\n",
      "16 activation_4 False\n",
      "17 max_pooling2d_1 False\n",
      "18 conv2d_8 False\n",
      "19 batch_normalization_8 False\n",
      "20 activation_8 False\n",
      "21 conv2d_6 False\n",
      "22 conv2d_9 False\n",
      "23 batch_normalization_6 False\n",
      "24 batch_normalization_9 False\n",
      "25 activation_6 False\n",
      "26 activation_9 False\n",
      "27 average_pooling2d False\n",
      "28 conv2d_5 False\n",
      "29 conv2d_7 False\n",
      "30 conv2d_10 False\n",
      "31 conv2d_11 False\n",
      "32 batch_normalization_5 False\n",
      "33 batch_normalization_7 False\n",
      "34 batch_normalization_10 False\n",
      "35 batch_normalization_11 False\n",
      "36 activation_5 False\n",
      "37 activation_7 False\n",
      "38 activation_10 False\n",
      "39 activation_11 False\n",
      "40 mixed0 False\n",
      "41 conv2d_15 False\n",
      "42 batch_normalization_15 False\n",
      "43 activation_15 False\n",
      "44 conv2d_13 False\n",
      "45 conv2d_16 False\n",
      "46 batch_normalization_13 False\n",
      "47 batch_normalization_16 False\n",
      "48 activation_13 False\n",
      "49 activation_16 False\n",
      "50 average_pooling2d_1 False\n",
      "51 conv2d_12 False\n",
      "52 conv2d_14 False\n",
      "53 conv2d_17 False\n",
      "54 conv2d_18 False\n",
      "55 batch_normalization_12 False\n",
      "56 batch_normalization_14 False\n",
      "57 batch_normalization_17 False\n",
      "58 batch_normalization_18 False\n",
      "59 activation_12 False\n",
      "60 activation_14 False\n",
      "61 activation_17 False\n",
      "62 activation_18 False\n",
      "63 mixed1 False\n",
      "64 conv2d_22 False\n",
      "65 batch_normalization_22 False\n",
      "66 activation_22 False\n",
      "67 conv2d_20 False\n",
      "68 conv2d_23 False\n",
      "69 batch_normalization_20 False\n",
      "70 batch_normalization_23 False\n",
      "71 activation_20 False\n",
      "72 activation_23 False\n",
      "73 average_pooling2d_2 False\n",
      "74 conv2d_19 False\n",
      "75 conv2d_21 False\n",
      "76 conv2d_24 False\n",
      "77 conv2d_25 False\n",
      "78 batch_normalization_19 False\n",
      "79 batch_normalization_21 False\n",
      "80 batch_normalization_24 False\n",
      "81 batch_normalization_25 False\n",
      "82 activation_19 False\n",
      "83 activation_21 False\n",
      "84 activation_24 False\n",
      "85 activation_25 False\n",
      "86 mixed2 False\n",
      "87 conv2d_27 False\n",
      "88 batch_normalization_27 False\n",
      "89 activation_27 False\n",
      "90 conv2d_28 False\n",
      "91 batch_normalization_28 False\n",
      "92 activation_28 False\n",
      "93 conv2d_26 False\n",
      "94 conv2d_29 False\n",
      "95 batch_normalization_26 False\n",
      "96 batch_normalization_29 False\n",
      "97 activation_26 False\n",
      "98 activation_29 False\n",
      "99 max_pooling2d_2 False\n",
      "100 mixed3 False\n",
      "101 conv2d_34 False\n",
      "102 batch_normalization_34 False\n",
      "103 activation_34 False\n",
      "104 conv2d_35 False\n",
      "105 batch_normalization_35 False\n",
      "106 activation_35 False\n",
      "107 conv2d_31 False\n",
      "108 conv2d_36 False\n",
      "109 batch_normalization_31 False\n",
      "110 batch_normalization_36 False\n",
      "111 activation_31 False\n",
      "112 activation_36 False\n",
      "113 conv2d_32 False\n",
      "114 conv2d_37 False\n",
      "115 batch_normalization_32 False\n",
      "116 batch_normalization_37 False\n",
      "117 activation_32 False\n",
      "118 activation_37 False\n",
      "119 average_pooling2d_3 False\n",
      "120 conv2d_30 False\n",
      "121 conv2d_33 False\n",
      "122 conv2d_38 False\n",
      "123 conv2d_39 False\n",
      "124 batch_normalization_30 False\n",
      "125 batch_normalization_33 False\n",
      "126 batch_normalization_38 False\n",
      "127 batch_normalization_39 False\n",
      "128 activation_30 False\n",
      "129 activation_33 False\n",
      "130 activation_38 False\n",
      "131 activation_39 False\n",
      "132 mixed4 False\n",
      "133 conv2d_44 False\n",
      "134 batch_normalization_44 False\n",
      "135 activation_44 False\n",
      "136 conv2d_45 False\n",
      "137 batch_normalization_45 False\n",
      "138 activation_45 False\n",
      "139 conv2d_41 False\n",
      "140 conv2d_46 False\n",
      "141 batch_normalization_41 False\n",
      "142 batch_normalization_46 False\n",
      "143 activation_41 False\n",
      "144 activation_46 False\n",
      "145 conv2d_42 False\n",
      "146 conv2d_47 False\n",
      "147 batch_normalization_42 False\n",
      "148 batch_normalization_47 False\n",
      "149 activation_42 False\n",
      "150 activation_47 False\n",
      "151 average_pooling2d_4 False\n",
      "152 conv2d_40 False\n",
      "153 conv2d_43 False\n",
      "154 conv2d_48 False\n",
      "155 conv2d_49 False\n",
      "156 batch_normalization_40 False\n",
      "157 batch_normalization_43 False\n",
      "158 batch_normalization_48 False\n",
      "159 batch_normalization_49 False\n",
      "160 activation_40 False\n",
      "161 activation_43 False\n",
      "162 activation_48 False\n",
      "163 activation_49 False\n",
      "164 mixed5 False\n",
      "165 conv2d_54 False\n",
      "166 batch_normalization_54 False\n",
      "167 activation_54 False\n",
      "168 conv2d_55 False\n",
      "169 batch_normalization_55 False\n",
      "170 activation_55 False\n",
      "171 conv2d_51 False\n",
      "172 conv2d_56 False\n",
      "173 batch_normalization_51 False\n",
      "174 batch_normalization_56 False\n",
      "175 activation_51 False\n",
      "176 activation_56 False\n",
      "177 conv2d_52 False\n",
      "178 conv2d_57 False\n",
      "179 batch_normalization_52 False\n",
      "180 batch_normalization_57 False\n",
      "181 activation_52 False\n",
      "182 activation_57 False\n",
      "183 average_pooling2d_5 False\n",
      "184 conv2d_50 False\n",
      "185 conv2d_53 False\n",
      "186 conv2d_58 False\n",
      "187 conv2d_59 False\n",
      "188 batch_normalization_50 False\n",
      "189 batch_normalization_53 False\n",
      "190 batch_normalization_58 False\n",
      "191 batch_normalization_59 False\n",
      "192 activation_50 False\n",
      "193 activation_53 False\n",
      "194 activation_58 False\n",
      "195 activation_59 False\n",
      "196 mixed6 False\n",
      "197 conv2d_64 False\n",
      "198 batch_normalization_64 False\n",
      "199 activation_64 False\n",
      "200 conv2d_65 False\n",
      "201 batch_normalization_65 False\n",
      "202 activation_65 False\n",
      "203 conv2d_61 False\n",
      "204 conv2d_66 False\n",
      "205 batch_normalization_61 False\n",
      "206 batch_normalization_66 False\n",
      "207 activation_61 False\n",
      "208 activation_66 False\n",
      "209 conv2d_62 False\n",
      "210 conv2d_67 False\n",
      "211 batch_normalization_62 False\n",
      "212 batch_normalization_67 False\n",
      "213 activation_62 False\n",
      "214 activation_67 False\n",
      "215 average_pooling2d_6 False\n",
      "216 conv2d_60 False\n",
      "217 conv2d_63 False\n",
      "218 conv2d_68 False\n",
      "219 conv2d_69 False\n",
      "220 batch_normalization_60 False\n",
      "221 batch_normalization_63 False\n",
      "222 batch_normalization_68 False\n",
      "223 batch_normalization_69 False\n",
      "224 activation_60 False\n",
      "225 activation_63 False\n",
      "226 activation_68 False\n",
      "227 activation_69 False\n",
      "228 mixed7 False\n",
      "229 conv2d_72 False\n",
      "230 batch_normalization_72 False\n",
      "231 activation_72 False\n",
      "232 conv2d_73 False\n",
      "233 batch_normalization_73 False\n",
      "234 activation_73 False\n",
      "235 conv2d_70 False\n",
      "236 conv2d_74 False\n",
      "237 batch_normalization_70 False\n",
      "238 batch_normalization_74 False\n",
      "239 activation_70 False\n",
      "240 activation_74 False\n",
      "241 conv2d_71 False\n",
      "242 conv2d_75 False\n",
      "243 batch_normalization_71 False\n",
      "244 batch_normalization_75 False\n",
      "245 activation_71 False\n",
      "246 activation_75 False\n",
      "247 max_pooling2d_3 False\n",
      "248 mixed8 False\n",
      "249 conv2d_80 False\n",
      "250 batch_normalization_80 False\n",
      "251 activation_80 False\n",
      "252 conv2d_77 False\n",
      "253 conv2d_81 False\n",
      "254 batch_normalization_77 False\n",
      "255 batch_normalization_81 False\n",
      "256 activation_77 False\n",
      "257 activation_81 False\n",
      "258 conv2d_78 False\n",
      "259 conv2d_79 False\n",
      "260 conv2d_82 False\n",
      "261 conv2d_83 False\n",
      "262 average_pooling2d_7 False\n",
      "263 conv2d_76 False\n",
      "264 batch_normalization_78 False\n",
      "265 batch_normalization_79 False\n",
      "266 batch_normalization_82 False\n",
      "267 batch_normalization_83 False\n",
      "268 conv2d_84 False\n",
      "269 batch_normalization_76 False\n",
      "270 activation_78 False\n",
      "271 activation_79 False\n",
      "272 activation_82 False\n",
      "273 activation_83 False\n",
      "274 batch_normalization_84 False\n",
      "275 activation_76 False\n",
      "276 mixed9_0 False\n",
      "277 concatenate False\n",
      "278 activation_84 False\n",
      "279 mixed9 False\n",
      "280 conv2d_89 False\n",
      "281 batch_normalization_89 False\n",
      "282 activation_89 False\n",
      "283 conv2d_86 False\n",
      "284 conv2d_90 False\n",
      "285 batch_normalization_86 False\n",
      "286 batch_normalization_90 False\n",
      "287 activation_86 False\n",
      "288 activation_90 False\n",
      "289 conv2d_87 False\n",
      "290 conv2d_88 False\n",
      "291 conv2d_91 False\n",
      "292 conv2d_92 False\n",
      "293 average_pooling2d_8 False\n",
      "294 conv2d_85 False\n",
      "295 batch_normalization_87 False\n",
      "296 batch_normalization_88 True\n",
      "297 batch_normalization_91 True\n",
      "298 batch_normalization_92 True\n",
      "299 conv2d_93 True\n",
      "300 batch_normalization_85 True\n",
      "301 activation_87 True\n",
      "302 activation_88 True\n",
      "303 activation_91 True\n",
      "304 activation_92 True\n",
      "305 batch_normalization_93 True\n",
      "306 activation_85 True\n",
      "307 mixed9_1 True\n",
      "308 concatenate_1 True\n",
      "309 activation_93 True\n",
      "310 mixed10 True\n",
      "Model: \"model\"\n",
      "_________________________________________________________________\n",
      "Layer (type)                 Output Shape              Param #   \n",
      "=================================================================\n",
      "input_1 (InputLayer)         [(None, 300, 300, 3)]     0         \n",
      "_________________________________________________________________\n",
      "rescaling (Rescaling)        (None, 300, 300, 3)       0         \n",
      "_________________________________________________________________\n",
      "inception_v3 (Functional)    (None, 8, 8, 2048)        21802784  \n",
      "_________________________________________________________________\n",
      "global_average_pooling2d (Gl (None, 2048)              0         \n",
      "_________________________________________________________________\n",
      "flatten (Flatten)            (None, 2048)              0         \n",
      "_________________________________________________________________\n",
      "dense (Dense)                (None, 1)                 2049      \n",
      "=================================================================\n",
      "Total params: 21,804,833\n",
      "Trainable params: 396,929\n",
      "Non-trainable params: 21,407,904\n",
      "_________________________________________________________________\n"
     ]
    }
   ],
   "source": [
    "model = base_model(shape = (IMG_SHAPE, IMG_SHAPE, 3), finetune = True)\n",
    "model.summary()"
   ]
  },
  {
   "cell_type": "code",
   "execution_count": 16,
   "id": "1744d688",
   "metadata": {
    "execution": {
     "iopub.execute_input": "2022-08-09T13:08:36.365589Z",
     "iopub.status.busy": "2022-08-09T13:08:36.364783Z",
     "iopub.status.idle": "2022-08-09T13:08:36.383792Z",
     "shell.execute_reply": "2022-08-09T13:08:36.384361Z",
     "shell.execute_reply.started": "2022-08-09T12:57:44.642596Z"
    },
    "papermill": {
     "duration": 0.067864,
     "end_time": "2022-08-09T13:08:36.384519",
     "exception": false,
     "start_time": "2022-08-09T13:08:36.316655",
     "status": "completed"
    },
    "tags": []
   },
   "outputs": [],
   "source": [
    "model.compile(loss = tf.keras.losses.BinaryCrossentropy(), optimizer= tf.keras.optimizers.RMSprop(learning_rate= 0.00001),\n",
    "              metrics= [tf.keras.metrics.BinaryAccuracy(),tf.keras.metrics.Precision(), tf.keras.metrics.Recall()])"
   ]
  },
  {
   "cell_type": "code",
   "execution_count": 17,
   "id": "044f3f26",
   "metadata": {
    "execution": {
     "iopub.execute_input": "2022-08-09T13:08:36.474738Z",
     "iopub.status.busy": "2022-08-09T13:08:36.474052Z",
     "iopub.status.idle": "2022-08-09T13:22:20.168920Z",
     "shell.execute_reply": "2022-08-09T13:22:20.169492Z"
    },
    "papermill": {
     "duration": 823.744052,
     "end_time": "2022-08-09T13:22:20.169670",
     "exception": false,
     "start_time": "2022-08-09T13:08:36.425618",
     "status": "completed"
    },
    "tags": []
   },
   "outputs": [
    {
     "name": "stdout",
     "output_type": "stream",
     "text": [
      "Epoch 1/20\n"
     ]
    },
    {
     "name": "stderr",
     "output_type": "stream",
     "text": [
      "2022-08-09 13:08:43.782154: I tensorflow/stream_executor/cuda/cuda_dnn.cc:369] Loaded cuDNN version 8005\n"
     ]
    },
    {
     "name": "stdout",
     "output_type": "stream",
     "text": [
      "105/105 [==============================] - 45s 306ms/step - loss: 0.5852 - binary_accuracy: 0.7872 - precision: 0.4280 - recall: 0.7365 - val_loss: 0.4268 - val_binary_accuracy: 0.9286 - val_precision: 0.8526 - val_recall: 0.6378\n",
      "Epoch 2/20\n",
      "105/105 [==============================] - 32s 294ms/step - loss: 0.4387 - binary_accuracy: 0.9057 - precision: 0.6592 - recall: 0.9250 - val_loss: 0.3320 - val_binary_accuracy: 0.9619 - val_precision: 0.8992 - val_recall: 0.8425\n",
      "Epoch 3/20\n",
      "105/105 [==============================] - 32s 289ms/step - loss: 0.3538 - binary_accuracy: 0.9399 - precision: 0.7616 - recall: 0.9424 - val_loss: 0.2777 - val_binary_accuracy: 0.9643 - val_precision: 0.8943 - val_recall: 0.8661\n",
      "Epoch 4/20\n",
      "105/105 [==============================] - 33s 302ms/step - loss: 0.3013 - binary_accuracy: 0.9512 - precision: 0.8057 - recall: 0.9407 - val_loss: 0.2448 - val_binary_accuracy: 0.9667 - val_precision: 0.8837 - val_recall: 0.8976\n",
      "Epoch 5/20\n",
      "105/105 [==============================] - 33s 298ms/step - loss: 0.2643 - binary_accuracy: 0.9565 - precision: 0.8250 - recall: 0.9459 - val_loss: 0.2215 - val_binary_accuracy: 0.9667 - val_precision: 0.8722 - val_recall: 0.9134\n",
      "Epoch 6/20\n",
      "105/105 [==============================] - 33s 298ms/step - loss: 0.2394 - binary_accuracy: 0.9598 - precision: 0.8411 - recall: 0.9424 - val_loss: 0.2051 - val_binary_accuracy: 0.9667 - val_precision: 0.8722 - val_recall: 0.9134\n",
      "Epoch 7/20\n",
      "105/105 [==============================] - 32s 293ms/step - loss: 0.2174 - binary_accuracy: 0.9661 - precision: 0.8626 - recall: 0.9529 - val_loss: 0.1917 - val_binary_accuracy: 0.9726 - val_precision: 0.8768 - val_recall: 0.9528\n",
      "Epoch 8/20\n",
      "105/105 [==============================] - 33s 296ms/step - loss: 0.2019 - binary_accuracy: 0.9655 - precision: 0.8633 - recall: 0.9476 - val_loss: 0.1796 - val_binary_accuracy: 0.9738 - val_precision: 0.8777 - val_recall: 0.9606\n",
      "Epoch 9/20\n",
      "105/105 [==============================] - 33s 297ms/step - loss: 0.1876 - binary_accuracy: 0.9673 - precision: 0.8692 - recall: 0.9511 - val_loss: 0.1684 - val_binary_accuracy: 0.9762 - val_precision: 0.8849 - val_recall: 0.9685\n",
      "Epoch 10/20\n",
      "105/105 [==============================] - 32s 291ms/step - loss: 0.1717 - binary_accuracy: 0.9670 - precision: 0.8632 - recall: 0.9581 - val_loss: 0.1584 - val_binary_accuracy: 0.9762 - val_precision: 0.8849 - val_recall: 0.9685\n",
      "Epoch 11/20\n",
      "105/105 [==============================] - 33s 295ms/step - loss: 0.1626 - binary_accuracy: 0.9699 - precision: 0.8770 - recall: 0.9581 - val_loss: 0.1492 - val_binary_accuracy: 0.9762 - val_precision: 0.8849 - val_recall: 0.9685\n",
      "Epoch 12/20\n",
      "105/105 [==============================] - 32s 287ms/step - loss: 0.1534 - binary_accuracy: 0.9720 - precision: 0.8832 - recall: 0.9634 - val_loss: 0.1388 - val_binary_accuracy: 0.9786 - val_precision: 0.8921 - val_recall: 0.9764\n",
      "Epoch 13/20\n",
      "105/105 [==============================] - 32s 290ms/step - loss: 0.1479 - binary_accuracy: 0.9699 - precision: 0.8794 - recall: 0.9546 - val_loss: 0.1326 - val_binary_accuracy: 0.9774 - val_precision: 0.8857 - val_recall: 0.9764\n",
      "Epoch 14/20\n",
      "105/105 [==============================] - 33s 287ms/step - loss: 0.1326 - binary_accuracy: 0.9777 - precision: 0.9029 - recall: 0.9738 - val_loss: 0.1252 - val_binary_accuracy: 0.9786 - val_precision: 0.8921 - val_recall: 0.9764\n",
      "Epoch 15/20\n",
      "105/105 [==============================] - 33s 295ms/step - loss: 0.1326 - binary_accuracy: 0.9753 - precision: 0.8964 - recall: 0.9668 - val_loss: 0.1185 - val_binary_accuracy: 0.9798 - val_precision: 0.8929 - val_recall: 0.9843\n",
      "Epoch 16/20\n",
      "105/105 [==============================] - 33s 297ms/step - loss: 0.1253 - binary_accuracy: 0.9768 - precision: 0.9038 - recall: 0.9668 - val_loss: 0.1140 - val_binary_accuracy: 0.9810 - val_precision: 0.8993 - val_recall: 0.9843\n",
      "Epoch 17/20\n",
      "105/105 [==============================] - 33s 291ms/step - loss: 0.1211 - binary_accuracy: 0.9812 - precision: 0.9236 - recall: 0.9703 - val_loss: 0.1098 - val_binary_accuracy: 0.9810 - val_precision: 0.8993 - val_recall: 0.9843\n",
      "Epoch 18/20\n",
      "105/105 [==============================] - 33s 297ms/step - loss: 0.1123 - binary_accuracy: 0.9807 - precision: 0.9178 - recall: 0.9738 - val_loss: 0.1037 - val_binary_accuracy: 0.9810 - val_precision: 0.8993 - val_recall: 0.9843\n",
      "Epoch 19/20\n",
      "105/105 [==============================] - 32s 289ms/step - loss: 0.1056 - binary_accuracy: 0.9833 - precision: 0.9259 - recall: 0.9808 - val_loss: 0.0978 - val_binary_accuracy: 0.9845 - val_precision: 0.9191 - val_recall: 0.9843\n",
      "Epoch 20/20\n",
      "105/105 [==============================] - 33s 294ms/step - loss: 0.1014 - binary_accuracy: 0.9851 - precision: 0.9308 - recall: 0.9860 - val_loss: 0.0923 - val_binary_accuracy: 0.9857 - val_precision: 0.9259 - val_recall: 0.9843\n"
     ]
    }
   ],
   "source": [
    "history = model.fit(train_ds, validation_data=test_ds, epochs=20, batch_size=32, class_weight=class_weights)\n"
   ]
  },
  {
   "cell_type": "markdown",
   "id": "4dec2557",
   "metadata": {
    "papermill": {
     "duration": 0.665704,
     "end_time": "2022-08-09T13:22:21.496516",
     "exception": false,
     "start_time": "2022-08-09T13:22:20.830812",
     "status": "completed"
    },
    "tags": []
   },
   "source": [
    "## creating csv tracking template"
   ]
  },
  {
   "cell_type": "markdown",
   "id": "2192a87a",
   "metadata": {
    "papermill": {
     "duration": 0.657476,
     "end_time": "2022-08-09T13:22:22.819645",
     "exception": false,
     "start_time": "2022-08-09T13:22:22.162169",
     "status": "completed"
    },
    "tags": []
   },
   "source": [
    "# Storing the Results and Model Evalution"
   ]
  },
  {
   "cell_type": "code",
   "execution_count": 18,
   "id": "f9b90165",
   "metadata": {
    "execution": {
     "iopub.execute_input": "2022-08-09T13:22:24.188289Z",
     "iopub.status.busy": "2022-08-09T13:22:24.187688Z",
     "iopub.status.idle": "2022-08-09T13:22:24.191319Z",
     "shell.execute_reply": "2022-08-09T13:22:24.190861Z"
    },
    "papermill": {
     "duration": 0.70986,
     "end_time": "2022-08-09T13:22:24.191446",
     "exception": false,
     "start_time": "2022-08-09T13:22:23.481586",
     "status": "completed"
    },
    "tags": []
   },
   "outputs": [],
   "source": [
    "data = pd.DataFrame({'loss':[], 'binary_accuracy': [], 'precision':[], 'recall':[], 'model':[]})\n"
   ]
  },
  {
   "cell_type": "code",
   "execution_count": 19,
   "id": "78e2bdd2",
   "metadata": {
    "execution": {
     "iopub.execute_input": "2022-08-09T13:22:25.524494Z",
     "iopub.status.busy": "2022-08-09T13:22:25.523660Z",
     "iopub.status.idle": "2022-08-09T13:22:35.771200Z",
     "shell.execute_reply": "2022-08-09T13:22:35.771875Z"
    },
    "papermill": {
     "duration": 10.917675,
     "end_time": "2022-08-09T13:22:35.772248",
     "exception": false,
     "start_time": "2022-08-09T13:22:24.854573",
     "status": "completed"
    },
    "tags": []
   },
   "outputs": [
    {
     "name": "stdout",
     "output_type": "stream",
     "text": [
      "27/27 [==============================] - 7s 186ms/step - loss: 0.0923 - binary_accuracy: 0.9857 - precision: 0.9259 - recall: 0.9843\n"
     ]
    }
   ],
   "source": [
    "model_name = 'InceptionV3'\n",
    "evall = model.evaluate(test_ds)\n"
   ]
  },
  {
   "cell_type": "code",
   "execution_count": 20,
   "id": "3dd64007",
   "metadata": {
    "execution": {
     "iopub.execute_input": "2022-08-09T13:22:37.143492Z",
     "iopub.status.busy": "2022-08-09T13:22:37.142847Z",
     "iopub.status.idle": "2022-08-09T13:22:37.145664Z",
     "shell.execute_reply": "2022-08-09T13:22:37.146110Z"
    },
    "papermill": {
     "duration": 0.69433,
     "end_time": "2022-08-09T13:22:37.146255",
     "exception": false,
     "start_time": "2022-08-09T13:22:36.451925",
     "status": "completed"
    },
    "tags": []
   },
   "outputs": [
    {
     "data": {
      "text/plain": [
       "[0.0923374593257904,\n",
       " 0.9857142567634583,\n",
       " 0.9259259104728699,\n",
       " 0.9842519760131836]"
      ]
     },
     "execution_count": 20,
     "metadata": {},
     "output_type": "execute_result"
    }
   ],
   "source": [
    "evall"
   ]
  },
  {
   "cell_type": "code",
   "execution_count": 21,
   "id": "73d3b5c1",
   "metadata": {
    "execution": {
     "iopub.execute_input": "2022-08-09T13:22:38.785924Z",
     "iopub.status.busy": "2022-08-09T13:22:38.784177Z",
     "iopub.status.idle": "2022-08-09T13:22:38.786549Z",
     "shell.execute_reply": "2022-08-09T13:22:38.786951Z"
    },
    "papermill": {
     "duration": 0.962016,
     "end_time": "2022-08-09T13:22:38.787120",
     "exception": false,
     "start_time": "2022-08-09T13:22:37.825104",
     "status": "completed"
    },
    "tags": []
   },
   "outputs": [],
   "source": [
    "evall.append(model_name)\n",
    "data.loc[len(data.index)] = evall"
   ]
  },
  {
   "cell_type": "code",
   "execution_count": 22,
   "id": "59dda567",
   "metadata": {
    "execution": {
     "iopub.execute_input": "2022-08-09T13:22:40.136327Z",
     "iopub.status.busy": "2022-08-09T13:22:40.135478Z",
     "iopub.status.idle": "2022-08-09T13:22:40.147040Z",
     "shell.execute_reply": "2022-08-09T13:22:40.146616Z"
    },
    "papermill": {
     "duration": 0.689701,
     "end_time": "2022-08-09T13:22:40.147165",
     "exception": false,
     "start_time": "2022-08-09T13:22:39.457464",
     "status": "completed"
    },
    "tags": []
   },
   "outputs": [
    {
     "data": {
      "text/html": [
       "<div>\n",
       "<style scoped>\n",
       "    .dataframe tbody tr th:only-of-type {\n",
       "        vertical-align: middle;\n",
       "    }\n",
       "\n",
       "    .dataframe tbody tr th {\n",
       "        vertical-align: top;\n",
       "    }\n",
       "\n",
       "    .dataframe thead th {\n",
       "        text-align: right;\n",
       "    }\n",
       "</style>\n",
       "<table border=\"1\" class=\"dataframe\">\n",
       "  <thead>\n",
       "    <tr style=\"text-align: right;\">\n",
       "      <th></th>\n",
       "      <th>loss</th>\n",
       "      <th>binary_accuracy</th>\n",
       "      <th>precision</th>\n",
       "      <th>recall</th>\n",
       "      <th>model</th>\n",
       "    </tr>\n",
       "  </thead>\n",
       "  <tbody>\n",
       "    <tr>\n",
       "      <th>0</th>\n",
       "      <td>0.092337</td>\n",
       "      <td>0.985714</td>\n",
       "      <td>0.925926</td>\n",
       "      <td>0.984252</td>\n",
       "      <td>InceptionV3</td>\n",
       "    </tr>\n",
       "  </tbody>\n",
       "</table>\n",
       "</div>"
      ],
      "text/plain": [
       "       loss  binary_accuracy  precision    recall        model\n",
       "0  0.092337         0.985714   0.925926  0.984252  InceptionV3"
      ]
     },
     "execution_count": 22,
     "metadata": {},
     "output_type": "execute_result"
    }
   ],
   "source": [
    "data.head()"
   ]
  },
  {
   "cell_type": "code",
   "execution_count": 23,
   "id": "cba17c7a",
   "metadata": {
    "execution": {
     "iopub.execute_input": "2022-08-09T13:22:41.547563Z",
     "iopub.status.busy": "2022-08-09T13:22:41.546697Z",
     "iopub.status.idle": "2022-08-09T13:22:41.553213Z",
     "shell.execute_reply": "2022-08-09T13:22:41.553645Z",
     "shell.execute_reply.started": "2022-05-04T00:39:43.007903Z"
    },
    "papermill": {
     "duration": 0.731761,
     "end_time": "2022-08-09T13:22:41.553800",
     "exception": false,
     "start_time": "2022-08-09T13:22:40.822039",
     "status": "completed"
    },
    "tags": []
   },
   "outputs": [],
   "source": [
    "data.to_csv('experiments.csv', index =False)"
   ]
  },
  {
   "cell_type": "markdown",
   "id": "449fe08d",
   "metadata": {
    "execution": {
     "iopub.execute_input": "2022-04-25T18:32:16.34522Z",
     "iopub.status.busy": "2022-04-25T18:32:16.344704Z",
     "iopub.status.idle": "2022-04-25T18:32:25.080901Z",
     "shell.execute_reply": "2022-04-25T18:32:25.080193Z",
     "shell.execute_reply.started": "2022-04-25T18:32:16.345175Z"
    },
    "papermill": {
     "duration": 0.668387,
     "end_time": "2022-08-09T13:22:42.894790",
     "exception": false,
     "start_time": "2022-08-09T13:22:42.226403",
     "status": "completed"
    },
    "tags": []
   },
   "source": [
    "data = pd.read_csv('experiments.csv')\n",
    "\n",
    "#evaluating model\n",
    "model_name = 'ResNet101'\n",
    "evall = model.evaluate(test_ds)\n",
    "\n",
    "#adding result to csv\n",
    "evall.append(model_name)\n",
    "data.loc[len(data.index)] = evall\n",
    "\n",
    "#writing csv\n",
    "data.to_csv('experiments.csv', index =False)"
   ]
  },
  {
   "cell_type": "code",
   "execution_count": 24,
   "id": "8407fd61",
   "metadata": {
    "execution": {
     "iopub.execute_input": "2022-08-09T13:22:44.699015Z",
     "iopub.status.busy": "2022-08-09T13:22:44.698314Z",
     "iopub.status.idle": "2022-08-09T13:22:44.701095Z",
     "shell.execute_reply": "2022-08-09T13:22:44.701516Z"
    },
    "papermill": {
     "duration": 0.905974,
     "end_time": "2022-08-09T13:22:44.701656",
     "exception": false,
     "start_time": "2022-08-09T13:22:43.795682",
     "status": "completed"
    },
    "tags": []
   },
   "outputs": [
    {
     "data": {
      "text/plain": [
       "dict_keys(['loss', 'binary_accuracy', 'precision', 'recall', 'val_loss', 'val_binary_accuracy', 'val_precision', 'val_recall'])"
      ]
     },
     "execution_count": 24,
     "metadata": {},
     "output_type": "execute_result"
    }
   ],
   "source": [
    "history.history.keys()"
   ]
  },
  {
   "cell_type": "code",
   "execution_count": 25,
   "id": "254918af",
   "metadata": {
    "execution": {
     "iopub.execute_input": "2022-08-09T13:22:46.064946Z",
     "iopub.status.busy": "2022-08-09T13:22:46.064389Z",
     "iopub.status.idle": "2022-08-09T13:22:47.073455Z",
     "shell.execute_reply": "2022-08-09T13:22:47.073009Z"
    },
    "papermill": {
     "duration": 1.704575,
     "end_time": "2022-08-09T13:22:47.073588",
     "exception": false,
     "start_time": "2022-08-09T13:22:45.369013",
     "status": "completed"
    },
    "tags": []
   },
   "outputs": [
    {
     "data": {
      "image/png": "[encoded data removed]",
      "text/plain": [
       "<Figure size 864x864 with 4 Axes>"
      ]
     },
     "metadata": {
      "needs_background": "light"
     },
     "output_type": "display_data"
    }
   ],
   "source": [
    "acc = [0.] + history.history['binary_accuracy']\n",
    "val_acc = [0.] + history.history['val_binary_accuracy']\n",
    "\n",
    "loss = history.history['loss']\n",
    "val_loss = history.history['val_loss']\n",
    "\n",
    "precision = history.history['precision']\n",
    "val_precision = history.history['val_precision']\n",
    "\n",
    "recall = history.history['recall']\n",
    "val_recall = history.history['val_recall']\n",
    "\n",
    "fig = plt.figure(figsize=(12, 12))\n",
    "plt.subplot(2, 2, 1)\n",
    "plt.plot(precision, label='Training Precision')\n",
    "plt.plot(val_precision, label='Validation Precision')\n",
    "plt.legend(loc='lower right')\n",
    "plt.ylabel('Precision')\n",
    "plt.ylim([min(plt.ylim()),1])\n",
    "plt.title('Training and Validation Precision')\n",
    "\n",
    "\n",
    "plt.subplot(2, 2, 2)\n",
    "plt.plot(recall, label='Training Recall')\n",
    "plt.plot(val_recall, label='Validation Recall')\n",
    "plt.legend(loc='lower right')\n",
    "plt.ylabel('Recall')\n",
    "plt.ylim([min(plt.ylim()),1])\n",
    "plt.title('Training and Validation Recall')\n",
    "\n",
    "\n",
    "plt.subplot(2, 2, 3)\n",
    "plt.plot(acc, label='Training Accuracy')\n",
    "plt.plot(val_acc, label='Validation Accuracy')\n",
    "plt.legend(loc='lower right')\n",
    "plt.ylabel('Accuracy')\n",
    "plt.ylim([min(plt.ylim()),1])\n",
    "plt.title('Training and Validation Accuracy')\n",
    "\n",
    "\n",
    "plt.subplot(2, 2, 4)\n",
    "plt.plot(loss, label='Training Loss')\n",
    "plt.plot(val_loss, label='Validation Loss')\n",
    "plt.legend(loc='upper right')\n",
    "plt.ylabel('Cross Entropy')\n",
    "plt.ylim([0,1.0])\n",
    "plt.title('Training and Validation Loss')\n",
    "plt.xlabel('epoch')\n",
    "fig.suptitle('TB ResNet101')\n",
    "plt.savefig('ResNet101.png')  \n",
    "plt.show()"
   ]
  },
  {
   "cell_type": "code",
   "execution_count": 26,
   "id": "c421f2ab",
   "metadata": {
    "execution": {
     "iopub.execute_input": "2022-08-09T13:22:48.432849Z",
     "iopub.status.busy": "2022-08-09T13:22:48.431817Z",
     "iopub.status.idle": "2022-08-09T13:22:50.108671Z",
     "shell.execute_reply": "2022-08-09T13:22:50.108206Z"
    },
    "papermill": {
     "duration": 2.354461,
     "end_time": "2022-08-09T13:22:50.108807",
     "exception": false,
     "start_time": "2022-08-09T13:22:47.754346",
     "status": "completed"
    },
    "tags": []
   },
   "outputs": [
    {
     "data": {
      "text/plain": [
       "array([[0.98938215]], dtype=float32)"
      ]
     },
     "execution_count": 26,
     "metadata": {},
     "output_type": "execute_result"
    }
   ],
   "source": [
    "model.predict(inf_img)"
   ]
  },
  {
   "cell_type": "code",
   "execution_count": 27,
   "id": "6624604f",
   "metadata": {
    "execution": {
     "iopub.execute_input": "2022-08-09T13:22:51.468926Z",
     "iopub.status.busy": "2022-08-09T13:22:51.467954Z",
     "iopub.status.idle": "2022-08-09T13:22:51.469803Z",
     "shell.execute_reply": "2022-08-09T13:22:51.470302Z"
    },
    "papermill": {
     "duration": 0.687403,
     "end_time": "2022-08-09T13:22:51.470453",
     "exception": false,
     "start_time": "2022-08-09T13:22:50.783050",
     "status": "completed"
    },
    "tags": []
   },
   "outputs": [],
   "source": [
    "def load_image(img_path, show=False):\n",
    "\n",
    "    img = image.load_img(img_path, target_size=(150, 150))\n",
    "    img_tensor = image.img_to_array(img)                    # (height, width, channels)\n",
    "    img_tensor = np.expand_dims(img_tensor, axis=0)         # (1, height, width, channels), add a dimension because the model expects this shape: (batch_size, height, width, channels)\n",
    "    img_tensor /= 255.                                      # imshow expects values in the range [0, 1]\n",
    "\n",
    "    if show:\n",
    "        plt.imshow(img_tensor[0])                           \n",
    "        plt.axis('off')\n",
    "        plt.show()\n",
    "\n",
    "    return img_tensor\n"
   ]
  },
  {
   "cell_type": "code",
   "execution_count": 28,
   "id": "afb37947",
   "metadata": {
    "execution": {
     "iopub.execute_input": "2022-08-09T13:22:52.833256Z",
     "iopub.status.busy": "2022-08-09T13:22:52.832669Z",
     "iopub.status.idle": "2022-08-09T13:23:36.893343Z",
     "shell.execute_reply": "2022-08-09T13:23:36.892669Z"
    },
    "papermill": {
     "duration": 44.751496,
     "end_time": "2022-08-09T13:23:36.893527",
     "exception": false,
     "start_time": "2022-08-09T13:22:52.142031",
     "status": "completed"
    },
    "tags": []
   },
   "outputs": [
    {
     "name": "stderr",
     "output_type": "stream",
     "text": [
      "2022-08-09 13:23:09.446631: W tensorflow/python/util/util.cc:348] Sets are not currently considered sequences, but this may change in the future, so consider avoiding using them.\n"
     ]
    }
   ],
   "source": [
    "model.save('saved_model/inceptionv3')"
   ]
  },
  {
   "cell_type": "code",
   "execution_count": 29,
   "id": "f7175659",
   "metadata": {
    "execution": {
     "iopub.execute_input": "2022-08-09T13:23:38.803055Z",
     "iopub.status.busy": "2022-08-09T13:23:38.802095Z",
     "iopub.status.idle": "2022-08-09T13:23:38.805229Z",
     "shell.execute_reply": "2022-08-09T13:23:38.805673Z"
    },
    "papermill": {
     "duration": 1.076934,
     "end_time": "2022-08-09T13:23:38.805814",
     "exception": false,
     "start_time": "2022-08-09T13:23:37.728880",
     "status": "completed"
    },
    "tags": []
   },
   "outputs": [
    {
     "data": {
      "text/plain": [
       "['keras_metadata.pb', 'variables', 'assets', 'saved_model.pb']"
      ]
     },
     "execution_count": 29,
     "metadata": {},
     "output_type": "execute_result"
    }
   ],
   "source": [
    "os.listdir('saved_model/inceptionv3')"
   ]
  },
  {
   "cell_type": "code",
   "execution_count": 30,
   "id": "b5f33fc1",
   "metadata": {
    "execution": {
     "iopub.execute_input": "2022-08-09T13:23:40.201946Z",
     "iopub.status.busy": "2022-08-09T13:23:40.201190Z",
     "iopub.status.idle": "2022-08-09T13:23:45.189558Z",
     "shell.execute_reply": "2022-08-09T13:23:45.190101Z"
    },
    "papermill": {
     "duration": 5.670042,
     "end_time": "2022-08-09T13:23:45.190256",
     "exception": false,
     "start_time": "2022-08-09T13:23:39.520214",
     "status": "completed"
    },
    "tags": []
   },
   "outputs": [
    {
     "data": {
      "text/plain": [
       "'/kaggle/working/tb_model.zip'"
      ]
     },
     "execution_count": 30,
     "metadata": {},
     "output_type": "execute_result"
    }
   ],
   "source": [
    "import shutil\n",
    "shutil.make_archive('tb_model', 'zip', './saved_model/inceptionv3')"
   ]
  },
  {
   "cell_type": "code",
   "execution_count": null,
   "id": "4dfafcd8",
   "metadata": {
    "papermill": {
     "duration": 0.673648,
     "end_time": "2022-08-09T13:23:46.536840",
     "exception": false,
     "start_time": "2022-08-09T13:23:45.863192",
     "status": "completed"
    },
    "tags": []
   },
   "outputs": [],
   "source": []
  }
 ],
 "metadata": {
  "kernelspec": {
   "display_name": "Python 3",
   "language": "python",
   "name": "python3"
  },
  "language_info": {
   "codemirror_mode": {
    "name": "ipython",
    "version": 3
   },
   "file_extension": ".py",
   "mimetype": "text/x-python",
   "name": "python",
   "nbconvert_exporter": "python",
   "pygments_lexer": "ipython3",
   "version": "3.7.12"
  },
  "papermill": {
   "default_parameters": {},
   "duration": 985.967719,
   "end_time": "2022-08-09T13:23:50.016315",
   "environment_variables": {},
   "exception": null,
   "input_path": "__notebook__.ipynb",
   "output_path": "__notebook__.ipynb",
   "parameters": {},
   "start_time": "2022-08-09T13:07:24.048596",
   "version": "2.3.3"
  }
 },
 "nbformat": 4,
 "nbformat_minor": 5
}
